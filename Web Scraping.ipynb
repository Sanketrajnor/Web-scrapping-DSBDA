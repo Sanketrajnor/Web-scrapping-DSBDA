{
 "cells": [
  {
   "cell_type": "code",
   "execution_count": 27,
   "id": "b9dcc23b",
   "metadata": {},
   "outputs": [],
   "source": [
    "import requests\n",
    "from bs4 import BeautifulSoup"
   ]
  },
  {
   "cell_type": "code",
   "execution_count": 28,
   "id": "d3dcbefc",
   "metadata": {},
   "outputs": [],
   "source": [
    "# URL of the product page\n",
    "url = \"https://www.amazon.com/HP-Portable-Microsoft-Quad-Core-Processor/dp/B0CPGKT77T/ref=sr_1_4?sr=8-4\""
   ]
  },
  {
   "cell_type": "code",
   "execution_count": 29,
   "id": "715c8919",
   "metadata": {},
   "outputs": [
    {
     "name": "stdout",
     "output_type": "stream",
     "text": [
      "Rating: 4.3\n"
     ]
    }
   ],
   "source": [
    "def scrape_ratings(url):\n",
    "    response = requests.get(url)\n",
    "    if response.status_code == 200:\n",
    "        soup = BeautifulSoup(response.content, 'html.parser')\n",
    "        rating = soup.find('span', class_='a-icon-alt').text.split(' ')[0]\n",
    "        print(\"Rating:\", rating)\n",
    "    else:\n",
    "        print(\"Failed to retrieve page:\", response.status_code)\n",
    "\n",
    "scrape_ratings(url)"
   ]
  },
  {
   "cell_type": "code",
   "execution_count": 30,
   "id": "330d38ad",
   "metadata": {},
   "outputs": [
    {
     "name": "stdout",
     "output_type": "stream",
     "text": [
      "Comment: Quality hp product as most are. Shipped quickly and no issues setting up\n",
      "Read more\n",
      "---------------------\n",
      "Comment: Great product good price really like easy to use and light weight\n",
      "Read more\n",
      "---------------------\n",
      "Comment: Very nice laptop! Great for school and work!\n",
      "Read more\n",
      "---------------------\n",
      "Comment: The media could not be loaded.\n",
      "                \n",
      "\n",
      "\n",
      "\n",
      " I'll start with the bad first. Yes, it's plasticky on the keyboard. The outside is plastic too but I actually think it feels very sturdy and wouldn't mind it even on a more expensive laptop. The keyboard does have a bit of a grainy texture and feels plasticky on my nails, that bothers me but I'm getting used to it. Setup is a pain on windows 11, with a billion opt outs/ins for basically advertising. At least you can say no though so just pay attention to what they're asking during setup. :/Aside from that though, I'm really happy with the computer. It's fast. I turned off S mode in the settings under activation. S mode prevents you from downloading anything not Microsoft approved, including other browsers. Quite frankly, S mode is only good for controlling a child's downloads in my opinion, but I wouldn't force edge on even a child. LolI only bought this for writing but it's far exceeded my speed expectations and size is nice and big even though the laptop is extremely light. I haven't tried but I do think it could handle some light gaming.I would definitely recommend getting it.\n",
      "Read more\n",
      "---------------------\n",
      "Comment: Worked great when I got it. Easy setup. Great performance. Exactly what I needed. Used it on Saturday and it worked fine, no issues. Go to use it the following Monday, and it won't start up. Gets stuck on a black screen with a flashing cursor. I've tried ALL of the troubleshooting options. I've tried a hard reset. I've contacted HP tech support through chat, tried all of the troubleshooting with them. Still not working. Called HP tech support tonight and tried more troubleshooting and another reset. Still nothing. So now I've had this thing for barely 2 months, it's unusable. And HP says I need to pay $40+ to have a flashdrive with the windows software loaded on it mailed to me because I don't have access to a different computer to download it to my own flashdrive and reinstall it on this computer even tho it's still within warranty but this is not covered. I'm so terribly disappointed in this whole process. I bought this computer to go back to school and for my small business. What a waste of money.\n",
      "Read more\n",
      "---------------------\n",
      "Comment: Received out new laptop that was Amazon’s Choice. I am very satisfied with the delivery, packaging and performance of this laptop. It is plenty fast enough for what I use it for.\n",
      "Read more\n",
      "---------------------\n",
      "Comment: I was looking around for a decent laptop because the one I currently own is outdated. I can say this laptop meets my expectations. I love the look and the sturdiness so far. I am pleased with my purchase!!!\n",
      "Read more\n",
      "---------------------\n",
      "Comment: Slick and easy to navigate\n",
      "Read more\n",
      "---------------------\n"
     ]
    }
   ],
   "source": [
    "def scrape_comments(url):\n",
    "    response = requests.get(url)\n",
    "    if response.status_code == 200:\n",
    "        soup = BeautifulSoup(response.content, 'html.parser')\n",
    "        review_containers = soup.find_all('div', class_='a-section review aok-relative')\n",
    "        for review in review_containers:\n",
    "            comment = review.find('span', class_='review-text').text.strip()\n",
    "            print(\"Comment:\", comment)\n",
    "            print(\"---------------------\")\n",
    "    else:\n",
    "        print(\"Failed to retrieve page:\", response.status_code)\n",
    "\n",
    "scrape_comments(url)"
   ]
  },
  {
   "cell_type": "code",
   "execution_count": 31,
   "id": "cbeb6017",
   "metadata": {},
   "outputs": [
    {
     "name": "stdout",
     "output_type": "stream",
     "text": [
      "Tags: ['5.0 out of 5 stars\\nGood product\\n', 'Verified Purchase', 'Report']\n",
      "---------------------\n",
      "Tags: ['5.0 out of 5 stars\\nComputer\\n', 'Verified Purchase', 'Report']\n",
      "---------------------\n",
      "Tags: ['4.0 out of 5 stars\\nNice!\\n', 'Verified Purchase', 'Report']\n",
      "---------------------\n",
      "Tags: ['5.0 out of 5 stars\\nPlasticky but fast\\n', 'Verified Purchase', 'Report']\n",
      "---------------------\n",
      "Tags: ['1.0 out of 5 stars\\n2 months in & already having issues\\n', 'Verified Purchase', 'Report']\n",
      "---------------------\n",
      "Tags: ['5.0 out of 5 stars\\nNice for the price!\\n', 'Verified Purchase', 'Report']\n",
      "---------------------\n",
      "Tags: ['5.0 out of 5 stars\\nHP laptop\\n', 'Verified Purchase', 'Report']\n",
      "---------------------\n",
      "Tags: ['5.0 out of 5 stars\\nVery bright and clear color\\n', 'Verified Purchase', 'Report']\n",
      "---------------------\n"
     ]
    }
   ],
   "source": [
    "def scrape_tags(url):\n",
    "    response = requests.get(url)\n",
    "    if response.status_code == 200:\n",
    "        soup = BeautifulSoup(response.content, 'html.parser')\n",
    "        review_containers = soup.find_all('div', class_='a-section review aok-relative')\n",
    "        for review in review_containers:\n",
    "            tags = review.find_all('a', class_='a-link-normal')\n",
    "            tag_list = [tag.text for tag in tags]\n",
    "            print(\"Tags:\", tag_list)\n",
    "            print(\"---------------------\")\n",
    "    else:\n",
    "        print(\"Failed to retrieve page:\", response.status_code)\n",
    "\n",
    "scrape_tags(url)"
   ]
  },
  {
   "cell_type": "code",
   "execution_count": 32,
   "id": "44aae21d",
   "metadata": {},
   "outputs": [
    {
     "name": "stdout",
     "output_type": "stream",
     "text": [
      "Reviewer: George Smith Sr.\n",
      "Review: Quality hp product as most are. Shipped quickly and no issues setting up\n",
      "Read more\n",
      "---------------------\n",
      "Reviewer: steven storm\n",
      "Review: Great product good price really like easy to use and light weight\n",
      "Read more\n",
      "---------------------\n",
      "Reviewer: Deviyon\n",
      "Review: Very nice laptop! Great for school and work!\n",
      "Read more\n",
      "---------------------\n",
      "Reviewer: Stephanie Barinka\n",
      "Review: The media could not be loaded.\n",
      "                \n",
      "\n",
      "\n",
      "\n",
      " I'll start with the bad first. Yes, it's plasticky on the keyboard. The outside is plastic too but I actually think it feels very sturdy and wouldn't mind it even on a more expensive laptop. The keyboard does have a bit of a grainy texture and feels plasticky on my nails, that bothers me but I'm getting used to it. Setup is a pain on windows 11, with a billion opt outs/ins for basically advertising. At least you can say no though so just pay attention to what they're asking during setup. :/Aside from that though, I'm really happy with the computer. It's fast. I turned off S mode in the settings under activation. S mode prevents you from downloading anything not Microsoft approved, including other browsers. Quite frankly, S mode is only good for controlling a child's downloads in my opinion, but I wouldn't force edge on even a child. LolI only bought this for writing but it's far exceeded my speed expectations and size is nice and big even though the laptop is extremely light. I haven't tried but I do think it could handle some light gaming.I would definitely recommend getting it.\n",
      "Read more\n",
      "---------------------\n",
      "Reviewer: Cassandra\n",
      "Review: Worked great when I got it. Easy setup. Great performance. Exactly what I needed. Used it on Saturday and it worked fine, no issues. Go to use it the following Monday, and it won't start up. Gets stuck on a black screen with a flashing cursor. I've tried ALL of the troubleshooting options. I've tried a hard reset. I've contacted HP tech support through chat, tried all of the troubleshooting with them. Still not working. Called HP tech support tonight and tried more troubleshooting and another reset. Still nothing. So now I've had this thing for barely 2 months, it's unusable. And HP says I need to pay $40+ to have a flashdrive with the windows software loaded on it mailed to me because I don't have access to a different computer to download it to my own flashdrive and reinstall it on this computer even tho it's still within warranty but this is not covered. I'm so terribly disappointed in this whole process. I bought this computer to go back to school and for my small business. What a waste of money.\n",
      "Read more\n",
      "---------------------\n",
      "Reviewer: Amazon Customer\n",
      "Review: Received out new laptop that was Amazon’s Choice. I am very satisfied with the delivery, packaging and performance of this laptop. It is plenty fast enough for what I use it for.\n",
      "Read more\n",
      "---------------------\n",
      "Reviewer: Kawanis Norris\n",
      "Review: I was looking around for a decent laptop because the one I currently own is outdated. I can say this laptop meets my expectations. I love the look and the sturdiness so far. I am pleased with my purchase!!!\n",
      "Read more\n",
      "---------------------\n",
      "Reviewer: Amazon Customer\n",
      "Review: Slick and easy to navigate\n",
      "Read more\n",
      "---------------------\n"
     ]
    }
   ],
   "source": [
    "def scrape_reviews(url):\n",
    "    response = requests.get(url)\n",
    "    if response.status_code == 200:\n",
    "        soup = BeautifulSoup(response.content, 'html.parser')\n",
    "        review_containers = soup.find_all('div', class_='a-section review aok-relative')\n",
    "        for review in review_containers:\n",
    "            reviewer_name = review.find('span', class_='a-profile-name').text.strip()\n",
    "            review_text = review.find('span', class_='review-text').text.strip()\n",
    "            print(\"Reviewer:\", reviewer_name)\n",
    "            print(\"Review:\", review_text)\n",
    "            print(\"---------------------\")\n",
    "    else:\n",
    "        print(\"Failed to retrieve page:\", response.status_code)\n",
    "\n",
    "scrape_reviews(url)"
   ]
  },
  {
   "cell_type": "code",
   "execution_count": 33,
   "id": "684cb60b",
   "metadata": {},
   "outputs": [
    {
     "name": "stdout",
     "output_type": "stream",
     "text": [
      "Customer Name: George Smith Sr.\n",
      "---------------------\n",
      "Customer Name: steven storm\n",
      "---------------------\n",
      "Customer Name: Deviyon\n",
      "---------------------\n",
      "Customer Name: Stephanie Barinka\n",
      "---------------------\n",
      "Customer Name: Cassandra\n",
      "---------------------\n",
      "Customer Name: Amazon Customer\n",
      "---------------------\n",
      "Customer Name: Kawanis Norris\n",
      "---------------------\n",
      "Customer Name: Amazon Customer\n",
      "---------------------\n"
     ]
    }
   ],
   "source": [
    "def scrape_customer_names(url):\n",
    "    response = requests.get(url)\n",
    "    if response.status_code == 200:\n",
    "        soup = BeautifulSoup(response.content, 'html.parser')\n",
    "        review_containers = soup.find_all('div', class_='a-section review aok-relative')\n",
    "        for review in review_containers:\n",
    "            customer_name = review.find('span', class_='a-profile-name').text.strip()\n",
    "            print(\"Customer Name:\", customer_name)\n",
    "            print(\"---------------------\")\n",
    "    else:\n",
    "        print(\"Failed to retrieve page:\", response.status_code)\n",
    "        \n",
    "scrape_customer_names(url)"
   ]
  },
  {
   "cell_type": "code",
   "execution_count": 34,
   "id": "8baa6b0f",
   "metadata": {},
   "outputs": [
    {
     "name": "stdout",
     "output_type": "stream",
     "text": [
      "Product Title: HP 15.6\" Portable Laptop (Include 1 Year Microsoft 365), HD Display, Intel Quad-Core N200 Processor, 16GB RAM, 128GB Storage, Wi-Fi 5, Webcam, HDMI, Numeric Keypad, Windows 11 Home, Red\n",
      "Product Description: About this item    【High Speed RAM And Enormous Space】16GB high-bandwidth RAM to smoothly run multiple applications and browser tabs all at once; 128GB UFS SSD allows to fast bootup and data transfer    【Processor】Intel N200 Processor (4 Cores, 4 Threads, 6MB Intel Smart Cache, up to 3.7GHz Turbo)    【Display】15.6\" diagonal, HD (1366 * 768) Screen    【Tech Specs】2 x USB 3.0 Type-A, 1 x USB Type-C, 1 x HDMI, 1 x headphone/microphone combo, Numeric Keyboard, Webcam, Wi-Fi 5 and Bluetooth    【Operating System】Windows 11 Home - Beautiful, more consistent new design, Great window layout options, Better multi-monitor functionality, Improved performance features, New videogame selection and capabilities, Compatible with Android Apps    \n",
      "›  See more product details\n"
     ]
    }
   ],
   "source": [
    "def scrape_product_info(url):\n",
    "    response = requests.get(url)\n",
    "    if response.status_code == 200:\n",
    "        soup = BeautifulSoup(response.content, 'html.parser')\n",
    "        \n",
    "        # Product Title\n",
    "        product_title = soup.find('span', id='productTitle')\n",
    "        if product_title:\n",
    "            product_title = product_title.get_text().strip()\n",
    "            print(\"Product Title:\", product_title)\n",
    "        \n",
    "        # Product Price\n",
    "        product_price = soup.find('span', id='priceblock_ourprice')\n",
    "        if product_price:\n",
    "            product_price = product_price.get_text().strip()\n",
    "            print(\"Product Price:\", product_price)\n",
    "        \n",
    "        # Product Description\n",
    "        product_description = soup.find('div', id='feature-bullets')\n",
    "        if product_description:\n",
    "            product_description = product_description.get_text().strip()\n",
    "            print(\"Product Description:\", product_description)\n",
    "        \n",
    "        # Product Image URL\n",
    "        product_image_url = soup.find('img', class_='imgTagWrapper')\n",
    "        if product_image_url:\n",
    "            product_image_url = product_image_url.get('src')\n",
    "            print(\"Product Image URL:\", product_image_url)\n",
    "        \n",
    "        # Product Availability\n",
    "        product_availability = soup.find('div', id='availability')\n",
    "        if product_availability:\n",
    "            product_availability = product_availability.get_text().strip()\n",
    "            print(\"Product Availability:\", product_availability)\n",
    "    else:\n",
    "        print(\"Failed to retrieve page:\", response.status_code)\n",
    "\n",
    "scrape_product_info(url)"
   ]
  },
  {
   "cell_type": "code",
   "execution_count": 36,
   "id": "24a4a111",
   "metadata": {},
   "outputs": [
    {
     "name": "stdout",
     "output_type": "stream",
     "text": [
      "Customer Name: George Smith Sr.\n",
      "Rating: 5.0\n",
      "---------------------\n",
      "Customer Name: steven storm\n",
      "Rating: 5.0\n",
      "---------------------\n",
      "Customer Name: Deviyon\n",
      "Rating: 4.0\n",
      "---------------------\n",
      "Customer Name: Stephanie Barinka\n",
      "Rating: 5.0\n",
      "---------------------\n",
      "Customer Name: Cassandra\n",
      "Rating: 1.0\n",
      "---------------------\n",
      "Customer Name: Amazon Customer\n",
      "Rating: 5.0\n",
      "---------------------\n",
      "Customer Name: Kawanis Norris\n",
      "Rating: 5.0\n",
      "---------------------\n",
      "Customer Name: Amazon Customer\n",
      "Rating: 5.0\n",
      "---------------------\n"
     ]
    }
   ],
   "source": [
    "def scrape_customer_ratings(url):\n",
    "    response = requests.get(url)\n",
    "    if response.status_code == 200:\n",
    "        soup = BeautifulSoup(response.content, 'html.parser')\n",
    "        review_containers = soup.find_all('div', class_='a-section review aok-relative')\n",
    "        for review in review_containers:\n",
    "            customer_name = review.find('span', class_='a-profile-name').text.strip()\n",
    "            rating = review.find('span', class_='a-icon-alt').text.split()[0]\n",
    "            print(\"Customer Name:\", customer_name)\n",
    "            print(\"Rating:\", rating)\n",
    "            print(\"---------------------\")\n",
    "    else:\n",
    "        print(\"Failed to retrieve page:\", response.status_code)\n",
    "\n",
    "scrape_customer_ratings(url)"
   ]
  },
  {
   "cell_type": "code",
   "execution_count": null,
   "id": "7489acee",
   "metadata": {},
   "outputs": [],
   "source": []
  }
 ],
 "metadata": {
  "kernelspec": {
   "display_name": "Python 3 (ipykernel)",
   "language": "python",
   "name": "python3"
  },
  "language_info": {
   "codemirror_mode": {
    "name": "ipython",
    "version": 3
   },
   "file_extension": ".py",
   "mimetype": "text/x-python",
   "name": "python",
   "nbconvert_exporter": "python",
   "pygments_lexer": "ipython3",
   "version": "3.11.5"
  }
 },
 "nbformat": 4,
 "nbformat_minor": 5
}
